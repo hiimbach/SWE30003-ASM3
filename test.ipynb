{
 "cells": [
  {
   "cell_type": "markdown",
   "metadata": {},
   "source": [
    "# DB Example"
   ]
  },
  {
   "cell_type": "code",
   "execution_count": 2,
   "metadata": {},
   "outputs": [],
   "source": [
    "from utils.db import *\n",
    "db = QueryDB(\"db\")\n",
    "\n",
    "# Add product\n",
    "db.query('add', # query type\n",
    "         'product', # table name\n",
    "         ['Kale',1.75,2,'Vegetable',\"Superfood kale, packed with vitamins, minerals, and antioxidants.\"] # values\n",
    ")\n",
    "\n",
    "# Delete product\n",
    "db.query('delete', # query type\n",
    "         'product', # table name\n",
    "         10 # row number\n",
    ")\n",
    "\n",
    "# Modify product\n",
    "db.query('modify', # query type\n",
    "         'product', # table name\n",
    "         9, # row number\n",
    "         [\"Almond Milk\",2.25,4,\"Dairy\",\"Nutrient-rich alternative to dairy milk, suitable for lactose intolerant individuals.\"  #values\n",
    "] # values\n",
    ")"
   ]
  },
  {
   "cell_type": "markdown",
   "metadata": {},
   "source": [
    "# UI Print Example"
   ]
  },
  {
   "cell_type": "code",
   "execution_count": 4,
   "metadata": {},
   "outputs": [
    {
     "name": "stdout",
     "output_type": "stream",
     "text": [
      "\u001b[34mHi Im Bach\u001b[0m\n"
     ]
    }
   ],
   "source": [
    "from utils.ui import *\n",
    "\n",
    "ui = UI()\n",
    "ui.print('Hi Im Bach', 'blue')"
   ]
  },
  {
   "cell_type": "code",
   "execution_count": null,
   "metadata": {},
   "outputs": [],
   "source": []
  }
 ],
 "metadata": {
  "kernelspec": {
   "display_name": "main",
   "language": "python",
   "name": "python3"
  },
  "language_info": {
   "codemirror_mode": {
    "name": "ipython",
    "version": 3
   },
   "file_extension": ".py",
   "mimetype": "text/x-python",
   "name": "python",
   "nbconvert_exporter": "python",
   "pygments_lexer": "ipython3",
   "version": "3.9.17"
  },
  "orig_nbformat": 4
 },
 "nbformat": 4,
 "nbformat_minor": 2
}
