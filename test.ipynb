{
 "cells": [
  {
   "cell_type": "markdown",
   "metadata": {},
   "source": [
    "# DB Example"
   ]
  },
  {
   "cell_type": "code",
   "execution_count": 2,
   "metadata": {},
   "outputs": [],
   "source": [
    "from utils.db import *\n",
    "db = QueryDB(\"db\")\n",
    "\n",
    "# Add product\n",
    "db.query('add', # query type\n",
    "         'product', # table name\n",
    "         ['Kale',1.75,2,'Vegetable',\"Superfood kale, packed with vitamins, minerals, and antioxidants.\"] # values\n",
    ")\n",
    "\n",
    "# Delete product\n",
    "db.query('delete', # query type\n",
    "         'product', # table name\n",
    "         10 # row number\n",
    ")\n",
    "\n",
    "# Modify product\n",
    "db.query('modify', # query type\n",
    "         'product', # table name\n",
    "         9, # row number\n",
    "         [\"Almond Milk\",2.25,4,\"Dairy\",\"Nutrient-rich alternative to dairy milk, suitable for lactose intolerant individuals.\"  #values\n",
    "] # values\n",
    ")"
   ]
  },
  {
   "cell_type": "markdown",
   "metadata": {},
   "source": [
    "# UI Print Example"
   ]
  },
  {
   "cell_type": "code",
   "execution_count": 3,
   "metadata": {},
   "outputs": [
    {
     "name": "stdout",
     "output_type": "stream",
     "text": [
      "\u001b[34m============================== Catalog ==============================\u001b[0m\n",
      "\n",
      "╒══════╤════════════════════════╤═════════╤════════════╕\n",
      "│   ID │ Product                │   Price │ Category   │\n",
      "╞══════╪════════════════════════╪═════════╪════════════╡\n",
      "│    1 │ Apple                  │    0.99 │ Fruit      │\n",
      "├──────┼────────────────────────┼─────────┼────────────┤\n",
      "│    2 │ Spinach                │    1.49 │ Vegetable  │\n",
      "├──────┼────────────────────────┼─────────┼────────────┤\n",
      "│    3 │ Quinoa                 │    2.99 │ Grains     │\n",
      "├──────┼────────────────────────┼─────────┼────────────┤\n",
      "│    4 │ Grilled Chicken Breast │    3.99 │ Proteins   │\n",
      "├──────┼────────────────────────┼─────────┼────────────┤\n",
      "│    5 │ Greek Yogurt           │    1.25 │ Dairy      │\n",
      "├──────┼────────────────────────┼─────────┼────────────┤\n",
      "│    6 │ Banana                 │    0.79 │ Fruit      │\n",
      "├──────┼────────────────────────┼─────────┼────────────┤\n",
      "│    7 │ Broccoli               │    1.99 │ Vegetable  │\n",
      "├──────┼────────────────────────┼─────────┼────────────┤\n",
      "│    8 │ Brown Rice             │    1.5  │ Grains     │\n",
      "├──────┼────────────────────────┼─────────┼────────────┤\n",
      "│    9 │ Salmon Fillet          │    4.5  │ Proteins   │\n",
      "├──────┼────────────────────────┼─────────┼────────────┤\n",
      "│   10 │ Almond Milk            │    2.25 │ Dairy      │\n",
      "╘══════╧════════════════════════╧═════════╧════════════╛\n",
      "\n",
      "\u001b[34m=====================================================================\u001b[0m\n",
      "\n"
     ]
    },
    {
     "ename": "KeyboardInterrupt",
     "evalue": "Interrupted by user",
     "output_type": "error",
     "traceback": [
      "\u001b[0;31m---------------------------------------------------------------------------\u001b[0m",
      "\u001b[0;31mKeyboardInterrupt\u001b[0m                         Traceback (most recent call last)",
      "\u001b[1;32m/Users/bachle/Documents/contract-30049/fts/SWE30003-ASM3/test.ipynb Cell 4\u001b[0m line \u001b[0;36m1\n\u001b[1;32m     <a href='vscode-notebook-cell:/Users/bachle/Documents/contract-30049/fts/SWE30003-ASM3/test.ipynb#W4sZmlsZQ%3D%3D?line=12'>13</a>\u001b[0m catalog \u001b[39m=\u001b[39m Catalog()\n\u001b[1;32m     <a href='vscode-notebook-cell:/Users/bachle/Documents/contract-30049/fts/SWE30003-ASM3/test.ipynb#W4sZmlsZQ%3D%3D?line=13'>14</a>\u001b[0m catalog\u001b[39m.\u001b[39mconstruct_from_table(product_table)\n\u001b[0;32m---> <a href='vscode-notebook-cell:/Users/bachle/Documents/contract-30049/fts/SWE30003-ASM3/test.ipynb#W4sZmlsZQ%3D%3D?line=14'>15</a>\u001b[0m CatalogUI(catalog)\u001b[39m.\u001b[39;49mdisplay()\n",
      "File \u001b[0;32m~/Documents/contract-30049/fts/SWE30003-ASM3/utils/ui/base.py:19\u001b[0m, in \u001b[0;36mUI.display\u001b[0;34m(self)\u001b[0m\n\u001b[1;32m     16\u001b[0m \u001b[39mself\u001b[39m\u001b[39m.\u001b[39mprint(\u001b[39m\"\u001b[39m\u001b[39m=\u001b[39m\u001b[39m\"\u001b[39m\u001b[39m*\u001b[39m\u001b[39mlen\u001b[39m(title), \u001b[39m\"\u001b[39m\u001b[39mblue\u001b[39m\u001b[39m\"\u001b[39m)\n\u001b[1;32m     17\u001b[0m \u001b[39mprint\u001b[39m()\n\u001b[0;32m---> 19\u001b[0m \u001b[39mself\u001b[39;49m\u001b[39m.\u001b[39;49moptions()\n",
      "File \u001b[0;32m~/Documents/contract-30049/fts/SWE30003-ASM3/utils/ui/catalog.py:32\u001b[0m, in \u001b[0;36mCatalogUI.options\u001b[0;34m(self)\u001b[0m\n\u001b[1;32m     30\u001b[0m keep \u001b[39m=\u001b[39m \u001b[39mTrue\u001b[39;00m\n\u001b[1;32m     31\u001b[0m \u001b[39mwhile\u001b[39;00m keep:\n\u001b[0;32m---> 32\u001b[0m     option \u001b[39m=\u001b[39m \u001b[39mself\u001b[39;49m\u001b[39m.\u001b[39;49mget(text\u001b[39m=\u001b[39;49m\u001b[39m\"\u001b[39;49m\u001b[39mChoose an product using the number, or type Q to quit:\u001b[39;49m\u001b[39m\"\u001b[39;49m)\n\u001b[1;32m     34\u001b[0m     \u001b[39mif\u001b[39;00m option\u001b[39m.\u001b[39mlower() \u001b[39m==\u001b[39m \u001b[39m\"\u001b[39m\u001b[39mq\u001b[39m\u001b[39m\"\u001b[39m:\n\u001b[1;32m     35\u001b[0m         keep \u001b[39m=\u001b[39m \u001b[39mFalse\u001b[39;00m\n",
      "File \u001b[0;32m~/Documents/contract-30049/fts/SWE30003-ASM3/utils/ui/base.py:31\u001b[0m, in \u001b[0;36mUI.get\u001b[0;34m(self, text, tab)\u001b[0m\n\u001b[1;32m     30\u001b[0m \u001b[39mdef\u001b[39;00m \u001b[39mget\u001b[39m(\u001b[39mself\u001b[39m, text: \u001b[39mstr\u001b[39m, tab\u001b[39m=\u001b[39m\u001b[39m0\u001b[39m):\n\u001b[0;32m---> 31\u001b[0m     \u001b[39mreturn\u001b[39;00m \u001b[39minput\u001b[39;49m(\u001b[39mf\u001b[39;49m\u001b[39m\"\u001b[39;49m\u001b[39m{\u001b[39;49;00mtab\u001b[39m*\u001b[39;49m\u001b[39m'\u001b[39;49m\u001b[39m   \u001b[39;49m\u001b[39m'\u001b[39;49m\u001b[39m}\u001b[39;49;00m\u001b[39m> \u001b[39;49m\u001b[39m{\u001b[39;49;00mtext\u001b[39m}\u001b[39;49;00m\u001b[39m\"\u001b[39;49m)\n",
      "File \u001b[0;32m~/anaconda3/envs/main/lib/python3.9/site-packages/ipykernel/kernelbase.py:1202\u001b[0m, in \u001b[0;36mKernel.raw_input\u001b[0;34m(self, prompt)\u001b[0m\n\u001b[1;32m   1200\u001b[0m     msg \u001b[39m=\u001b[39m \u001b[39m\"\u001b[39m\u001b[39mraw_input was called, but this frontend does not support input requests.\u001b[39m\u001b[39m\"\u001b[39m\n\u001b[1;32m   1201\u001b[0m     \u001b[39mraise\u001b[39;00m StdinNotImplementedError(msg)\n\u001b[0;32m-> 1202\u001b[0m \u001b[39mreturn\u001b[39;00m \u001b[39mself\u001b[39;49m\u001b[39m.\u001b[39;49m_input_request(\n\u001b[1;32m   1203\u001b[0m     \u001b[39mstr\u001b[39;49m(prompt),\n\u001b[1;32m   1204\u001b[0m     \u001b[39mself\u001b[39;49m\u001b[39m.\u001b[39;49m_parent_ident[\u001b[39m\"\u001b[39;49m\u001b[39mshell\u001b[39;49m\u001b[39m\"\u001b[39;49m],\n\u001b[1;32m   1205\u001b[0m     \u001b[39mself\u001b[39;49m\u001b[39m.\u001b[39;49mget_parent(\u001b[39m\"\u001b[39;49m\u001b[39mshell\u001b[39;49m\u001b[39m\"\u001b[39;49m),\n\u001b[1;32m   1206\u001b[0m     password\u001b[39m=\u001b[39;49m\u001b[39mFalse\u001b[39;49;00m,\n\u001b[1;32m   1207\u001b[0m )\n",
      "File \u001b[0;32m~/anaconda3/envs/main/lib/python3.9/site-packages/ipykernel/kernelbase.py:1245\u001b[0m, in \u001b[0;36mKernel._input_request\u001b[0;34m(self, prompt, ident, parent, password)\u001b[0m\n\u001b[1;32m   1242\u001b[0m \u001b[39mexcept\u001b[39;00m \u001b[39mKeyboardInterrupt\u001b[39;00m:\n\u001b[1;32m   1243\u001b[0m     \u001b[39m# re-raise KeyboardInterrupt, to truncate traceback\u001b[39;00m\n\u001b[1;32m   1244\u001b[0m     msg \u001b[39m=\u001b[39m \u001b[39m\"\u001b[39m\u001b[39mInterrupted by user\u001b[39m\u001b[39m\"\u001b[39m\n\u001b[0;32m-> 1245\u001b[0m     \u001b[39mraise\u001b[39;00m \u001b[39mKeyboardInterrupt\u001b[39;00m(msg) \u001b[39mfrom\u001b[39;00m \u001b[39mNone\u001b[39;00m\n\u001b[1;32m   1246\u001b[0m \u001b[39mexcept\u001b[39;00m \u001b[39mException\u001b[39;00m:\n\u001b[1;32m   1247\u001b[0m     \u001b[39mself\u001b[39m\u001b[39m.\u001b[39mlog\u001b[39m.\u001b[39mwarning(\u001b[39m\"\u001b[39m\u001b[39mInvalid Message:\u001b[39m\u001b[39m\"\u001b[39m, exc_info\u001b[39m=\u001b[39m\u001b[39mTrue\u001b[39;00m)\n",
      "\u001b[0;31mKeyboardInterrupt\u001b[0m: Interrupted by user"
     ]
    }
   ],
   "source": [
    "import os \n",
    "import sys \n",
    "if os.path.abspath(os.getcwd()) not in sys.path:\n",
    "    sys.path.append(os.path.abspath(os.getcwd()))\n",
    "\n",
    "from utils.ui.catalog import CatalogUI\n",
    "from features.catalog import Catalog\n",
    "from utils.db import QueryDB\n",
    "\n",
    "\n",
    "db = QueryDB(\"db\")\n",
    "product_table = db.table['product']\n",
    "catalog = Catalog()\n",
    "catalog.construct_from_table(product_table)\n",
    "\n",
    "CatalogUI(catalog).display()"
   ]
  },
  {
   "cell_type": "code",
   "execution_count": null,
   "metadata": {},
   "outputs": [],
   "source": []
  }
 ],
 "metadata": {
  "kernelspec": {
   "display_name": "main",
   "language": "python",
   "name": "python3"
  },
  "language_info": {
   "codemirror_mode": {
    "name": "ipython",
    "version": 3
   },
   "file_extension": ".py",
   "mimetype": "text/x-python",
   "name": "python",
   "nbconvert_exporter": "python",
   "pygments_lexer": "ipython3",
   "version": "3.9.17"
  },
  "orig_nbformat": 4
 },
 "nbformat": 4,
 "nbformat_minor": 2
}
